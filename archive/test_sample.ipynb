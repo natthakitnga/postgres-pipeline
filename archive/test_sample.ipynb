{
 "cells": [
  {
   "cell_type": "code",
   "execution_count": 1,
   "metadata": {},
   "outputs": [],
   "source": [
    "import string\n",
    "import numpy as np\n",
    "import pandas as pd\n",
    "import random\n",
    "import os\n",
    "import shutil\n",
    "import datetime as dt\n",
    "from tqdm import tqdm\n",
    "\n",
    "random.seed(0)"
   ]
  },
  {
   "cell_type": "code",
   "execution_count": 2,
   "metadata": {},
   "outputs": [],
   "source": [
    "def gen_text(number_of_item, long_of_text, text_list):\n",
    "    item_list = []\n",
    "    while len(item_list) < number_of_item :\n",
    "        item_name = ''.join(random.choices(text_list, k = long_of_text))\n",
    "        if item_name not in item_list:\n",
    "            item_list.append(item_name)\n",
    "    return item_list"
   ]
  },
  {
   "cell_type": "code",
   "execution_count": 3,
   "metadata": {},
   "outputs": [],
   "source": [
    "folder_name = 'data_sample'\n",
    "if  folder_name in os.listdir() :\n",
    "    shutil.rmtree(folder_name)\n",
    "os.mkdir(folder_name)"
   ]
  },
  {
   "cell_type": "code",
   "execution_count": 4,
   "metadata": {},
   "outputs": [
    {
     "name": "stdout",
     "output_type": "stream",
     "text": [
      "list_date :  43201\n"
     ]
    }
   ],
   "source": [
    "# prepare record\n",
    "\n",
    "list_date = pd.date_range(\"2023-01-01\", end='2023-01-31', freq=\"min\")\n",
    "print('list_date : ',len(list_date))\n",
    "\n",
    "list_char = list(string.ascii_lowercase)\n",
    "\n",
    "column_template = ['department_name','sensor_serial','create_at','product_name','product_expire']\n",
    "\n",
    "number_of_department = 100\n",
    "sensor_in_department = [random.choices(range(5,30))[0] for i in range(number_of_department)]\n",
    "number_of_sensor = sum(sensor_in_department)\n",
    "\n",
    "number_of_product = 1000\n",
    "department_list = gen_text(number_of_item = number_of_department, long_of_text = 32, text_list = list_char)\n",
    "sensor_list = gen_text(number_of_item = number_of_sensor, long_of_text = 64, text_list = list_char)\n",
    "product_list = gen_text(number_of_item = number_of_product, long_of_text = 16, text_list = list_char)"
   ]
  },
  {
   "cell_type": "code",
   "execution_count": 5,
   "metadata": {},
   "outputs": [],
   "source": [
    "data_template = pd.DataFrame(columns=['department_name','sensor_serial'])\n",
    "for i in range(number_of_department):\n",
    "    d_name = department_list[i]\n",
    "    n_sensor = sensor_in_department[i]\n",
    "    check_list = list(data_template['sensor_serial'].unique())\n",
    "    a = [s for s in sensor_list if s not in check_list]\n",
    "    data_department = pd.DataFrame({\n",
    "        'department_name' : [d_name] * n_sensor\n",
    "        , 'sensor_serial' : random.choices(\n",
    "            [s for s in sensor_list if s not in check_list]\n",
    "            , k = n_sensor\n",
    "            )\n",
    "        })\n",
    "    data_template = pd.concat([data_template,data_department], ignore_index=True)\n",
    "del data_department"
   ]
  },
  {
   "cell_type": "code",
   "execution_count": 6,
   "metadata": {},
   "outputs": [
    {
     "name": "stderr",
     "output_type": "stream",
     "text": [
      "100%|██████████| 43201/43201 [04:43<00:00, 152.51it/s]\n"
     ]
    }
   ],
   "source": [
    "for i in tqdm(range(len(list_date))):\n",
    "    data_date = data_template.copy()\n",
    "    create_at = list_date[i]\n",
    "    path = os.path.join(folder_name,str(create_at)) + '.parquet'\n",
    "    data_date['create_at'] = create_at\n",
    "    data_date['product_name'] = random.choices(product_list, k = number_of_sensor)\n",
    "    data_date['product_expire'] = list(map(lambda x : x + dt.timedelta(days = 90 - random.choices([1,2,3])[0]), data_date['create_at']))\n",
    "    data_date.to_parquet(path)\n",
    "    # break"
   ]
  },
  {
   "cell_type": "code",
   "execution_count": 36,
   "metadata": {},
   "outputs": [
    {
     "data": {
      "text/html": [
       "<div>\n",
       "<style scoped>\n",
       "    .dataframe tbody tr th:only-of-type {\n",
       "        vertical-align: middle;\n",
       "    }\n",
       "\n",
       "    .dataframe tbody tr th {\n",
       "        vertical-align: top;\n",
       "    }\n",
       "\n",
       "    .dataframe thead th {\n",
       "        text-align: right;\n",
       "    }\n",
       "</style>\n",
       "<table border=\"1\" class=\"dataframe\">\n",
       "  <thead>\n",
       "    <tr style=\"text-align: right;\">\n",
       "      <th></th>\n",
       "      <th>department_name</th>\n",
       "      <th>sensor_serial</th>\n",
       "      <th>create_at</th>\n",
       "      <th>product_name</th>\n",
       "      <th>product_expire</th>\n",
       "    </tr>\n",
       "  </thead>\n",
       "  <tbody>\n",
       "    <tr>\n",
       "      <th>0</th>\n",
       "      <td>dxhnjapxotoegxrhwawgbknkcmgrqxhn</td>\n",
       "      <td>irnykaklzmkncythncnvrdhsybjtsagdwuhfwicxfirqqx...</td>\n",
       "      <td>2023-01-01</td>\n",
       "      <td>fheievchpnukvmwz</td>\n",
       "      <td>2023-03-31</td>\n",
       "    </tr>\n",
       "    <tr>\n",
       "      <th>1</th>\n",
       "      <td>dxhnjapxotoegxrhwawgbknkcmgrqxhn</td>\n",
       "      <td>mkswspnpzilhpzjfpwbtvennyuyvpaeojkjahlehmwxdkn...</td>\n",
       "      <td>2023-01-01</td>\n",
       "      <td>jwjvkrthwdpurfvf</td>\n",
       "      <td>2023-03-31</td>\n",
       "    </tr>\n",
       "    <tr>\n",
       "      <th>2</th>\n",
       "      <td>dxhnjapxotoegxrhwawgbknkcmgrqxhn</td>\n",
       "      <td>unulwlbzzdynvamfygktkigobrzklegurwnyzgdvnuqaxy...</td>\n",
       "      <td>2023-01-01</td>\n",
       "      <td>kcmedkagdxwgsfzh</td>\n",
       "      <td>2023-03-29</td>\n",
       "    </tr>\n",
       "    <tr>\n",
       "      <th>3</th>\n",
       "      <td>dxhnjapxotoegxrhwawgbknkcmgrqxhn</td>\n",
       "      <td>yryjgyevkgfjjaohckwykfmhlipvsjqsaxbblpiyrkcsem...</td>\n",
       "      <td>2023-01-01</td>\n",
       "      <td>nhqivopdsvbffvdf</td>\n",
       "      <td>2023-03-30</td>\n",
       "    </tr>\n",
       "    <tr>\n",
       "      <th>4</th>\n",
       "      <td>dxhnjapxotoegxrhwawgbknkcmgrqxhn</td>\n",
       "      <td>qcvxqdpwtqtmhrwtxnecrpfsiaevsrgdflmudfhfhhdazd...</td>\n",
       "      <td>2023-01-01</td>\n",
       "      <td>jfsvbwosjyuleomk</td>\n",
       "      <td>2023-03-31</td>\n",
       "    </tr>\n",
       "    <tr>\n",
       "      <th>...</th>\n",
       "      <td>...</td>\n",
       "      <td>...</td>\n",
       "      <td>...</td>\n",
       "      <td>...</td>\n",
       "      <td>...</td>\n",
       "    </tr>\n",
       "    <tr>\n",
       "      <th>1623</th>\n",
       "      <td>vdnjojlmhuyfkdpzowldsxuevcdxkxhh</td>\n",
       "      <td>iobtcrqgydhcuvixqequvxnhxwqcfpwdoprhlrfvvxluwj...</td>\n",
       "      <td>2023-01-01</td>\n",
       "      <td>glybejecpbpuzwzn</td>\n",
       "      <td>2023-03-31</td>\n",
       "    </tr>\n",
       "    <tr>\n",
       "      <th>1624</th>\n",
       "      <td>vdnjojlmhuyfkdpzowldsxuevcdxkxhh</td>\n",
       "      <td>pcsuivwsbdlbzvexpzwphiilejghiichzlnpvgfktbzinx...</td>\n",
       "      <td>2023-01-01</td>\n",
       "      <td>mpoppgcjquijolch</td>\n",
       "      <td>2023-03-31</td>\n",
       "    </tr>\n",
       "    <tr>\n",
       "      <th>1625</th>\n",
       "      <td>vdnjojlmhuyfkdpzowldsxuevcdxkxhh</td>\n",
       "      <td>xbuvzxzxlvhugqnzyyymfhgtboiqwmdxepzpbtxqzcylan...</td>\n",
       "      <td>2023-01-01</td>\n",
       "      <td>tempehnthsrplbqb</td>\n",
       "      <td>2023-03-29</td>\n",
       "    </tr>\n",
       "    <tr>\n",
       "      <th>1626</th>\n",
       "      <td>vdnjojlmhuyfkdpzowldsxuevcdxkxhh</td>\n",
       "      <td>kpnknqccwzhbjcejaikigapcnqarcpmbwooysqgvjbyjxr...</td>\n",
       "      <td>2023-01-01</td>\n",
       "      <td>wyapalweoqqmhcyv</td>\n",
       "      <td>2023-03-29</td>\n",
       "    </tr>\n",
       "    <tr>\n",
       "      <th>1627</th>\n",
       "      <td>vdnjojlmhuyfkdpzowldsxuevcdxkxhh</td>\n",
       "      <td>erwjifjtriccpxsbejjwswgmnofgutjsicvhkkmrdclqbc...</td>\n",
       "      <td>2023-01-01</td>\n",
       "      <td>amhszeeiouezyvst</td>\n",
       "      <td>2023-03-31</td>\n",
       "    </tr>\n",
       "  </tbody>\n",
       "</table>\n",
       "<p>1628 rows × 5 columns</p>\n",
       "</div>"
      ],
      "text/plain": [
       "                       department_name  \\\n",
       "0     dxhnjapxotoegxrhwawgbknkcmgrqxhn   \n",
       "1     dxhnjapxotoegxrhwawgbknkcmgrqxhn   \n",
       "2     dxhnjapxotoegxrhwawgbknkcmgrqxhn   \n",
       "3     dxhnjapxotoegxrhwawgbknkcmgrqxhn   \n",
       "4     dxhnjapxotoegxrhwawgbknkcmgrqxhn   \n",
       "...                                ...   \n",
       "1623  vdnjojlmhuyfkdpzowldsxuevcdxkxhh   \n",
       "1624  vdnjojlmhuyfkdpzowldsxuevcdxkxhh   \n",
       "1625  vdnjojlmhuyfkdpzowldsxuevcdxkxhh   \n",
       "1626  vdnjojlmhuyfkdpzowldsxuevcdxkxhh   \n",
       "1627  vdnjojlmhuyfkdpzowldsxuevcdxkxhh   \n",
       "\n",
       "                                          sensor_serial  create_at  \\\n",
       "0     irnykaklzmkncythncnvrdhsybjtsagdwuhfwicxfirqqx... 2023-01-01   \n",
       "1     mkswspnpzilhpzjfpwbtvennyuyvpaeojkjahlehmwxdkn... 2023-01-01   \n",
       "2     unulwlbzzdynvamfygktkigobrzklegurwnyzgdvnuqaxy... 2023-01-01   \n",
       "3     yryjgyevkgfjjaohckwykfmhlipvsjqsaxbblpiyrkcsem... 2023-01-01   \n",
       "4     qcvxqdpwtqtmhrwtxnecrpfsiaevsrgdflmudfhfhhdazd... 2023-01-01   \n",
       "...                                                 ...        ...   \n",
       "1623  iobtcrqgydhcuvixqequvxnhxwqcfpwdoprhlrfvvxluwj... 2023-01-01   \n",
       "1624  pcsuivwsbdlbzvexpzwphiilejghiichzlnpvgfktbzinx... 2023-01-01   \n",
       "1625  xbuvzxzxlvhugqnzyyymfhgtboiqwmdxepzpbtxqzcylan... 2023-01-01   \n",
       "1626  kpnknqccwzhbjcejaikigapcnqarcpmbwooysqgvjbyjxr... 2023-01-01   \n",
       "1627  erwjifjtriccpxsbejjwswgmnofgutjsicvhkkmrdclqbc... 2023-01-01   \n",
       "\n",
       "          product_name product_expire  \n",
       "0     fheievchpnukvmwz     2023-03-31  \n",
       "1     jwjvkrthwdpurfvf     2023-03-31  \n",
       "2     kcmedkagdxwgsfzh     2023-03-29  \n",
       "3     nhqivopdsvbffvdf     2023-03-30  \n",
       "4     jfsvbwosjyuleomk     2023-03-31  \n",
       "...                ...            ...  \n",
       "1623  glybejecpbpuzwzn     2023-03-31  \n",
       "1624  mpoppgcjquijolch     2023-03-31  \n",
       "1625  tempehnthsrplbqb     2023-03-29  \n",
       "1626  wyapalweoqqmhcyv     2023-03-29  \n",
       "1627  amhszeeiouezyvst     2023-03-31  \n",
       "\n",
       "[1628 rows x 5 columns]"
      ]
     },
     "execution_count": 36,
     "metadata": {},
     "output_type": "execute_result"
    }
   ],
   "source": [
    "data_date"
   ]
  },
  {
   "cell_type": "code",
   "execution_count": 12,
   "metadata": {},
   "outputs": [],
   "source": [
    "df_pq = pd.read_parquet('/Users/coralinemacbookpro-03/Documents/other/data_wow/noted/data_sample/2023-01-01 00:02:00.parquet')"
   ]
  },
  {
   "cell_type": "code",
   "execution_count": 14,
   "metadata": {},
   "outputs": [
    {
     "data": {
      "text/plain": [
       "1914"
      ]
     },
     "execution_count": 14,
     "metadata": {},
     "output_type": "execute_result"
    }
   ],
   "source": [
    "len(df_pq)"
   ]
  },
  {
   "cell_type": "code",
   "execution_count": 8,
   "metadata": {},
   "outputs": [
    {
     "data": {
      "text/html": [
       "<div>\n",
       "<style scoped>\n",
       "    .dataframe tbody tr th:only-of-type {\n",
       "        vertical-align: middle;\n",
       "    }\n",
       "\n",
       "    .dataframe tbody tr th {\n",
       "        vertical-align: top;\n",
       "    }\n",
       "\n",
       "    .dataframe thead th {\n",
       "        text-align: right;\n",
       "    }\n",
       "</style>\n",
       "<table border=\"1\" class=\"dataframe\">\n",
       "  <thead>\n",
       "    <tr style=\"text-align: right;\">\n",
       "      <th></th>\n",
       "      <th>department_name</th>\n",
       "      <th>sensor_serial</th>\n",
       "      <th>create_at</th>\n",
       "      <th>product_name</th>\n",
       "      <th>product_expire</th>\n",
       "    </tr>\n",
       "  </thead>\n",
       "  <tbody>\n",
       "    <tr>\n",
       "      <th>0</th>\n",
       "      <td>qvgtdfuivcdsboxnraqpokjzaayedfuy</td>\n",
       "      <td>ogaacjdszqnmihmbmowurxertkvisyxlvcckouzohjgjmn...</td>\n",
       "      <td>2023-01-01</td>\n",
       "      <td>ukdvwjumzjdffmmk</td>\n",
       "      <td>2023-03-31</td>\n",
       "    </tr>\n",
       "    <tr>\n",
       "      <th>1</th>\n",
       "      <td>qvgtdfuivcdsboxnraqpokjzaayedfuy</td>\n",
       "      <td>jlcupyajaxwljjbtpgibuqkwldckyzitvtuxycxrasefba...</td>\n",
       "      <td>2023-01-01</td>\n",
       "      <td>wtmvatzvplvekyyu</td>\n",
       "      <td>2023-03-29</td>\n",
       "    </tr>\n",
       "    <tr>\n",
       "      <th>2</th>\n",
       "      <td>qvgtdfuivcdsboxnraqpokjzaayedfuy</td>\n",
       "      <td>ktzwxsgymyxdlsxtkbipvokudhlgbmdjgayiemhpzvctfb...</td>\n",
       "      <td>2023-01-01</td>\n",
       "      <td>rjzsuflrtrgnafkq</td>\n",
       "      <td>2023-03-31</td>\n",
       "    </tr>\n",
       "    <tr>\n",
       "      <th>3</th>\n",
       "      <td>qvgtdfuivcdsboxnraqpokjzaayedfuy</td>\n",
       "      <td>lfrmstkemkybgehgybdaxwqvcbdsczowunbpgvlsgpzrye...</td>\n",
       "      <td>2023-01-01</td>\n",
       "      <td>wtmvatzvplvekyyu</td>\n",
       "      <td>2023-03-29</td>\n",
       "    </tr>\n",
       "    <tr>\n",
       "      <th>4</th>\n",
       "      <td>qvgtdfuivcdsboxnraqpokjzaayedfuy</td>\n",
       "      <td>ggmpdkynngneislqxzjviszeskllebikdfnfxeaskknlli...</td>\n",
       "      <td>2023-01-01</td>\n",
       "      <td>upbnsdmrxqfdfjau</td>\n",
       "      <td>2023-03-29</td>\n",
       "    </tr>\n",
       "  </tbody>\n",
       "</table>\n",
       "</div>"
      ],
      "text/plain": [
       "                    department_name  \\\n",
       "0  qvgtdfuivcdsboxnraqpokjzaayedfuy   \n",
       "1  qvgtdfuivcdsboxnraqpokjzaayedfuy   \n",
       "2  qvgtdfuivcdsboxnraqpokjzaayedfuy   \n",
       "3  qvgtdfuivcdsboxnraqpokjzaayedfuy   \n",
       "4  qvgtdfuivcdsboxnraqpokjzaayedfuy   \n",
       "\n",
       "                                       sensor_serial  create_at  \\\n",
       "0  ogaacjdszqnmihmbmowurxertkvisyxlvcckouzohjgjmn... 2023-01-01   \n",
       "1  jlcupyajaxwljjbtpgibuqkwldckyzitvtuxycxrasefba... 2023-01-01   \n",
       "2  ktzwxsgymyxdlsxtkbipvokudhlgbmdjgayiemhpzvctfb... 2023-01-01   \n",
       "3  lfrmstkemkybgehgybdaxwqvcbdsczowunbpgvlsgpzrye... 2023-01-01   \n",
       "4  ggmpdkynngneislqxzjviszeskllebikdfnfxeaskknlli... 2023-01-01   \n",
       "\n",
       "       product_name product_expire  \n",
       "0  ukdvwjumzjdffmmk     2023-03-31  \n",
       "1  wtmvatzvplvekyyu     2023-03-29  \n",
       "2  rjzsuflrtrgnafkq     2023-03-31  \n",
       "3  wtmvatzvplvekyyu     2023-03-29  \n",
       "4  upbnsdmrxqfdfjau     2023-03-29  "
      ]
     },
     "execution_count": 8,
     "metadata": {},
     "output_type": "execute_result"
    }
   ],
   "source": [
    "df_pq.h"
   ]
  }
 ],
 "metadata": {
  "kernelspec": {
   "display_name": "env",
   "language": "python",
   "name": "python3"
  },
  "language_info": {
   "codemirror_mode": {
    "name": "ipython",
    "version": 3
   },
   "file_extension": ".py",
   "mimetype": "text/x-python",
   "name": "python",
   "nbconvert_exporter": "python",
   "pygments_lexer": "ipython3",
   "version": "3.11.2"
  }
 },
 "nbformat": 4,
 "nbformat_minor": 2
}
